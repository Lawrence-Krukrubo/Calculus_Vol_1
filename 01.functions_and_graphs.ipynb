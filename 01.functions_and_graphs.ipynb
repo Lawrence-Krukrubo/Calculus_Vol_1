{
 "cells": [
  {
   "cell_type": "code",
   "execution_count": 9,
   "metadata": {
    "id": "VlJdJD7ch6cd"
   },
   "outputs": [],
   "source": [
    "import pandas as pd\n",
    "import numpy as np\n",
    "import matplotlib.pyplot as plt\n",
    "import seaborn as sns"
   ]
  },
  {
   "cell_type": "markdown",
   "metadata": {
    "id": "LD8dZVx4V_9d"
   },
   "source": [
    "**Calculus** is the mathematics that describes changes in functions. The functions necessary\n",
    "to study calculus are:\n",
    "1. polynomial, \n",
    "2. Rational, \n",
    "3. Trigonometric, \n",
    "4. Exponential, and \n",
    "5. Logarithmic functions\n",
    "\n",
    ". It is essential to be familiar and comfortable with these ideas before proceeding to the\n",
    "formal introduction of calculus "
   ]
  },
  {
   "cell_type": "markdown",
   "metadata": {
    "id": "OrrjfR2DYeQD"
   },
   "source": [
    "<h3>Functions:</h3>\n",
    "\n",
    "A function is a special type of relation in which each element of the first set(domain) is related to exactly one element of the second set(range).<br>\n",
    "For any function, when we know the input, the output is\n",
    "determined, so we say that the output is a function of the input. For example, the area of a square is determined by its side\n",
    "length, so we say that the area (the output) is a function of its side length (the input)\n",
    "\n",
    "Since functions have so many uses, it is important to have precise definitions and terminology to\n",
    "study them.\n",
    "\n",
    "<img src='https://openstax.org/resources/2c2546282d046a88ba13631953e931a101974c21'><br>\n",
    "_A function can be visualized as an input/output device._\n",
    "<br>\n",
    "<br>\n",
    "<img src='https://openstax.org/resources/8fa5606aa4655ac788fcf850e8cb7646c77062da'><br>\n",
    "_A function maps every element in the domain to exactly one element in the range. Although each input can be sent to only one output, two different inputs can be sent to the same output._\n"
   ]
  },
  {
   "cell_type": "markdown",
   "metadata": {
    "id": "uvCxK52Tacp4"
   },
   "source": [
    "**Definition**\n",
    "\n",
    "A function $f$ consists of a set of inputs, a set of outputs, and a rule for assigning each input to exactly one output. The\n",
    "set of inputs is called the `domain` of the function. The set of outputs is called the `range` of the function.<br>A function maps every element in the domain to\n",
    "exactly one element in the range. Although each input can be\n",
    "sent to only one output, two different inputs can be sent to the\n",
    "same output.\n"
   ]
  },
  {
   "cell_type": "markdown",
   "metadata": {
    "id": "zcbYa88oh2QV"
   },
   "source": [
    "<h3>Plotting Functions as graphs:</h3>\n",
    "\n",
    "We can also visualize a function by plotting points $(x, y)$ in the coordinate plane where $y = f(x)$. The graph of a function\n",
    "is the set of all these points. For example, consider the function $f$, where the domain is the set $D = {1, 2, 3}$ and the\n",
    "rule is $f(x) = 3 − x$\n",
    "\n",
    "Let's plot this function\n"
   ]
  },
  {
   "cell_type": "code",
   "execution_count": 2,
   "metadata": {
    "id": "CssFWC23V_Da"
   },
   "outputs": [],
   "source": [
    "def plot_func(x=list):\n",
    "    \"\"\"This method plots the\n",
    "        function f(x) = 3-x,\n",
    "        given any values of x\n",
    "    \"\"\"\n",
    "    y = [3-i for i in x]\n",
    "\n",
    "    sns.set_style('ticks')\n",
    "    plt.figure(figsize=(6,4))\n",
    "    plt.scatter(x=x, y=y, color='red')\n",
    "    plt.title('Plotting function f(x) = 3 - x', fontsize=14)\n",
    "    plt.xlabel('x', fontsize=12)\n",
    "    plt.ylabel('y', fontsize=12, rotation=1.4)\n",
    "\n",
    "    plt.show()"
   ]
  },
  {
   "cell_type": "code",
   "execution_count": 3,
   "metadata": {
    "colab": {
     "base_uri": "https://localhost:8080/",
     "height": 299
    },
    "id": "1j6AwjHpoJRZ",
    "outputId": "ee8fe000-b1e6-460a-ad71-971327ae1a1f"
   },
   "outputs": [
    {
     "data": {
      "image/png": "[encoded data removed]",
      "text/plain": [
       "<Figure size 432x288 with 1 Axes>"
      ]
     },
     "metadata": {},
     "output_type": "display_data"
    }
   ],
   "source": [
    "domain = [1,2,3]\n",
    "plot_func(domain)"
   ]
  },
  {
   "cell_type": "markdown",
   "metadata": {
    "id": "QVFJDFeGZWuf"
   },
   "source": [
    "**Learning Objectives**\n",
    "\n",
    "1.1.1 Use functional notation to evaluate a function.<br>\n",
    "1.1.2 Determine the domain and range of a function.<br>\n",
    "1.1.3 Draw the graph of a function.<br>\n",
    "1.1.4 Find the zeros of a function.<br>\n",
    "1.1.5 Recognize a function from a table of values.<br>\n",
    "1.1.6 Make new functions from two or more given functions.<br>\n",
    "1.1.7 Describe the symmetry properties of a function."
   ]
  },
  {
   "cell_type": "markdown",
   "metadata": {
    "id": "QKsi6p3qgpKz"
   },
   "source": [
    "1. The set of real numbers is the set of numbers within negative-infinity to infinity\n",
    "\n",
    "* In set notation this is seen as..\n",
    "<h3>Real-Numbers = {$x|x-is-any-real-number$}</h3>\n",
    "\n",
    "* In interval notation\n",
    "<h3>$(-\\inf, \\inf)$</h3>\n",
    "\n",
    "2. The set of all natural number refer to the set of positive numbers\n",
    "\n",
    "* In set notation this is seen as..\n",
    "<h3>Natural-Numbers = {$x|0 \\le x$}</h3>\n",
    "\n",
    "* In interval notation...\n",
    "<h3>$[0, \\inf)$</h3>\n",
    "\n",
    "2. The set of all negative numbers...\n",
    "\n",
    "* In set notation this is seen as..\n",
    "<h3>Negative-Numbers = {$x|x \\lt 0$}</h3>\n",
    "\n",
    "* In interval notation...\n",
    "<h3>$(-\\inf, 0)$</h3>"
   ]
  },
  {
   "cell_type": "markdown",
   "metadata": {
    "id": "Xh5gKEkspCtS"
   },
   "source": [
    "<h3>EXAMPLE 1.1</h3>\n",
    "\n",
    "**Evaluating Functions**\n",
    "\n",
    "For the function  $f(x)=3x^2+2x−1$,  evaluate...\n",
    "* $f(−2)$ \n",
    "* $f(\\sqrt 2)$ \n",
    "* $f(a+h)$"
   ]
  },
  {
   "cell_type": "code",
   "execution_count": 4,
   "metadata": {
    "colab": {
     "base_uri": "https://localhost:8080/"
    },
    "id": "DTslLCv8Z6at",
    "outputId": "70572df4-ab6c-40ac-94fc-ab50196aca76"
   },
   "outputs": [
    {
     "data": {
      "text/plain": [
       "7"
      ]
     },
     "execution_count": 4,
     "metadata": {},
     "output_type": "execute_result"
    }
   ],
   "source": [
    "# when x = -2, f(x) is...\n",
    "\n",
    "x = -2\n",
    "f_of_x = (3*(x**2)) + 2*x - 1\n",
    "f_of_x"
   ]
  },
  {
   "cell_type": "code",
   "execution_count": 5,
   "metadata": {
    "colab": {
     "base_uri": "https://localhost:8080/"
    },
    "id": "Dz3lS1e3qbUD",
    "outputId": "87da3e6c-d29f-4fc7-8dd8-a55c02b443ab"
   },
   "outputs": [
    {
     "data": {
      "text/plain": [
       "7.828427124746192"
      ]
     },
     "execution_count": 5,
     "metadata": {},
     "output_type": "execute_result"
    }
   ],
   "source": [
    "# when x = 2**0.5, f(x) is...\n",
    "\n",
    "x = 2**0.5\n",
    "f_of_x = (3*(x**2)) + 2*x - 1\n",
    "f_of_x"
   ]
  },
  {
   "cell_type": "code",
   "execution_count": 6,
   "metadata": {
    "id": "ZpphhrihrC1W"
   },
   "outputs": [],
   "source": [
    "# when x = a+h, f(x) is..."
   ]
  },
  {
   "cell_type": "markdown",
   "metadata": {
    "id": "KFOMClNVrKEe"
   },
   "source": [
    "$3*(a+h)^2 + 2*(a+h) - 1$...\n",
    "<br>which is equal to...<br>\n",
    "$3a^2+6ah+3h^2+2a+2h-1$"
   ]
  },
  {
   "cell_type": "markdown",
   "metadata": {
    "id": "scZc73MzyGbG"
   },
   "source": [
    "**CHECKPOINT 1.1**\n",
    "\n",
    "For  $f(x)=x^2−3x+5$,  evaluate  $f(1)$  and  $f(a+h)$."
   ]
  },
  {
   "cell_type": "code",
   "execution_count": 7,
   "metadata": {
    "colab": {
     "base_uri": "https://localhost:8080/"
    },
    "id": "Yenv9s6YsBFy",
    "outputId": "2a5b2bc0-38ec-4fcd-fb30-bc5829018260"
   },
   "outputs": [
    {
     "data": {
      "text/plain": [
       "3"
      ]
     },
     "execution_count": 7,
     "metadata": {},
     "output_type": "execute_result"
    }
   ],
   "source": [
    "# when x = 1\n",
    "x = 1\n",
    "f_of_x = x**2 - 3*x + 5\n",
    "f_of_x"
   ]
  },
  {
   "cell_type": "code",
   "execution_count": 8,
   "metadata": {
    "id": "apOuHiT-ytnv"
   },
   "outputs": [],
   "source": [
    "# when x = a + h, f(x) is..."
   ]
  },
  {
   "cell_type": "markdown",
   "metadata": {
    "id": "5dHjJIuIzQts"
   },
   "source": [
    "$a^2+2ah+h^2-3a-3h+5$"
   ]
  },
  {
   "cell_type": "markdown",
   "metadata": {
    "id": "PjR8HugXzs8Z"
   },
   "source": [
    "<h3>Example 1.2</h3>\n",
    "\n",
    "**Finding Domain and Range**\n",
    "\n",
    "For each of the following functions, determine the i. domain and ii. range.\n",
    "* $f(x)=(x−4)^2+5$ \n",
    "* $f(x)= \\sqrt{3x+2}-1$ \n",
    "* $f(x)={3 \\over x−2}$"
   ]
  },
  {
   "cell_type": "markdown",
   "metadata": {
    "id": "AT6UJ_fJL5RW"
   },
   "source": [
    "## * $f(x)=(x−4)^2+5$ \n",
    "Writing the Domain and Range in Interval Notation...\n",
    "\n",
    "1. The domain $D$ is any real number $x$ represented with interval notation as $D =(-inf, inf)$\n",
    "2. we know that $(x-4)^2$ must be $>= 0$, therefore the range $y$ is $[5,inf)$  \n",
    "\n",
    "In set notation... <br>$D = (x|-inf < x < inf)$<br>$R = (y|y >= 5)$"
   ]
  },
  {
   "cell_type": "markdown",
   "metadata": {
    "id": "SAu49WtGSfw4"
   },
   "source": [
    "## * $f(x)= \\sqrt{3x+2}-1$ \n",
    "\n",
    "Writing in interval notation...\n",
    "\n",
    "1. given the square root, we know the expression within the sqrt must evaluate to atleast zero as we can't find sqrt of a negative number. Therefore the question is what minimal value of $x$ must be multiplied with 3  and added to 2 to get atleast 0? Meaning, we need to solve the expression $3x+2≥0$. The answer is $3*(-2/3)x + 2$. Therefore the domain is...<br>$D = [-2/3, inf)$<br>As for the range $R$, if the entire sqrt evaluates to minimum of zero, then the minimum range must be<br>$R=[-1, inf)$\n",
    "\n",
    "In set Notation...\n",
    "\n",
    "* $D = (x|x >= -2/3)$\n",
    "* $R = (y|y >= -1)$"
   ]
  },
  {
   "cell_type": "markdown",
   "metadata": {
    "id": "_C15KOf3cC3P"
   },
   "source": [
    "# $f(x)={3 \\over x−2}$\n",
    "\n",
    "The domain and range in interval notation\n",
    "\n",
    "* The above expression can take any real value of $x$ except 2, so as to avoid a zero-division-error therefore $D=(x \\ne 2)$\n",
    "* The range To find the range of $f$, we need to find the values of $y$ such that there exists a real number $x$ in the domain with the property that\n",
    "$3 \\over{x−2}$ $=y$.\n",
    "\n",
    "Solving this equation for $x$, we find that $x={3\\over y}+2$. Therefore so long as $y \\ne 0$, there exists a value $x$ in the domain such that $f(x)=y$.\n",
    " \n",
    "\n",
    " \n",
    "\n",
    "\n",
    "In Set Notation...\n",
    "\n",
    "* $D=(x|x \\ne 2)$\n",
    "* $R=(y|y \\ne 0)$"
   ]
  },
  {
   "cell_type": "markdown",
   "metadata": {
    "id": "3Ua4nYnMo1hB"
   },
   "source": [
    "Find the domain and range for  \n",
    "\n",
    "## $f(x)= \\sqrt{4−2x} +5$\n",
    "\n",
    "* For the domain, since we cant solve sqrt for negative numbers, then we must find the values of $x$ that satisfy the equation $4-2x \\ge 0$. Therefore $x$ is at most 2. <br>$D=(-inf, 2]$...  or $D=(x|x \\le 2)$\n",
    "\n",
    "* The range is inferred from the domain. Therefore given the maximum of 2 that returns a sqrt of 0, the minimum range we can have is atleast 5<br>$D=[5, inf)... or $D=(y)$$"
   ]
  },
  {
   "cell_type": "markdown",
   "metadata": {
    "id": "Jf5P6NXJkDDS"
   },
   "source": [
    "### Representing Functions\n",
    "\n",
    "Typically, a function is represented using one or more of the following tools:\n",
    "\n",
    "* A table\n",
    "* A graph\n",
    "* A formula\n",
    "\n",
    "We can identify a function in each form, but we can also use them together. For instance, we can plot on a graph the values from a table or create a table from a formula.\n",
    "\n",
    "Given an algebraic formula for a function $f$, the graph of $f$ is the set of points $(x,f(x))$, where $x$  is in the domain of  $f$  and  $f(x)$  is in the range. To graph a function given by a formula, it is helpful to begin by using the formula to create a table of inputs and outputs. \n",
    "\n",
    "If the domain of $f$ consists of an infinite number of values, we cannot list all of them, but because listing some of the inputs and outputs can be very useful, it is often a good way to begin."
   ]
  },
  {
   "cell_type": "markdown",
   "metadata": {},
   "source": [
    "### X and Y intercepts\n",
    "\n",
    "When creating a table of inputs and outputs, we typically check to determine whether zero is an output. Those values of  $x$  where  $f(x)=0$  are called the **zeros of a function**. The zeros of a function are the values of $x$ where $f(x)$ is equal to zero. For example, the zeros of  $f(x)=x^2−4$  are  $x=±2$.  The zeros determine where the graph of  $f$  intersects the  $x-axis$, which gives us more information about the shape of the graph of the function. The graph of a function may never intersect the $x-axis$, or it may intersect multiple (or even infinitely many) times.\n",
    "\n",
    "Another point of interest is the  **y-intercept**, if it exists. The  y-intercept is given by  $(0,f(0))$. \n",
    "\n",
    "Since a function has exactly one output for each input, the graph of a function can have, at most, one  y-intercept. If  $x=0$  is in the domain of a function  $f$,  then  $f$  has exactly one  y-intercept. If  $x=0$  is not in the domain of  $f$,  then  $f$  has no  y-intercept. Similarly, for any real number  $c$,  if  $c$  is in the domain of  $f$,  there is exactly one output  $f(c)$,  and the line  $x=c$  intersects the graph of  $f$  exactly once. On the other hand, if  $c$  is not in the domain of $f$, $f(c)$  is not defined and the line  $x=c$  does not intersect the graph of $f$.  This property is summarized in the **vertical line test**."
   ]
  },
  {
   "cell_type": "markdown",
   "metadata": {
    "id": "qJQZVmDgpFOv"
   },
   "source": [
    "### **RULE: VERTICAL LINE TEST**\n",
    "\n",
    "Given a function $f$,  every vertical line that may be drawn intersects the graph of $f$ no more than once. If any vertical line intersects a set of points more than once, the set of points does not represent a function.\n",
    "\n",
    "<img src='https://openstax.org/resources/f0672e463a3ed9bb557f5925fa1a89baea66f04c'>\n",
    "\n",
    "Figure 1.8 \n",
    "* (a) The set of plotted points represents the graph of a function because every vertical line intersects the set of points, at most, once. \n",
    "* (b) The set of plotted points does not represent the graph of a function because some vertical lines intersect the set of points more than once."
   ]
  },
  {
   "cell_type": "markdown",
   "metadata": {
    "id": "GcKvPd9hqrP3"
   },
   "source": [
    "### **Finding Zeros and  y -Intercepts of a Function**\n",
    "\n",
    "Consider the function:\n",
    "\n",
    "## $f(x)=−4x+2$\n",
    "\n",
    "* Find all zeros of $f$ \n",
    "* Find the $y$ -intercept (if any).\n",
    "* Sketch a graph of $f$."
   ]
  },
  {
   "cell_type": "markdown",
   "metadata": {
    "id": "x0EG--SYr-If"
   },
   "source": [
    "1. To find the zeros of $x$, we need to solve $f(x) = -4x+2=0$... This gives $x=0.5$.Thus, the $x$-intercept is $(0.5, 0)$. This means the function $f$ crosses the $x$-axis at point $(0.5,0)$\n",
    "\n",
    "2. To find the $y$-intercept, we find the value of the function when $x=0$. Therefore $y$-intercept $= 2$. The  $y$-intercept is given by $(0,f(0))=(0,2)$.This means the function $f$ crosses the $y$-axis at point $(0,2)$\n",
    "\n",
    "<img src='https://openstax.org/resources/195b1e6c56950bdbc093b02223743c168c223f84'>\n",
    "\n",
    "The function $f(x)=−4x+2$  is a line with $x$-intercept $(1/2,0)$ and $y$-intercept $(0,2)$."
   ]
  },
  {
   "cell_type": "code",
   "execution_count": 20,
   "metadata": {},
   "outputs": [],
   "source": [
    "def graph_fx(arr):\n",
    "    \"\"\"For any given value of x\n",
    "        f(x) is -4x+2\n",
    "    \"\"\"\n",
    "    f_of_x = [(-4*x)+2 for x in arr]\n",
    "    \n",
    "    plt.figure(figsize=(6,4), dpi=100)\n",
    "    plt.grid()\n",
    "    plt.annotate('y-intcpt', (0, 2))\n",
    "    plt.annotate('x-intcpt', (0.5, 0))\n",
    "    plt.title('The graph of f(x) = sqrt(x+3)+1 has a y-intercept but no x-intercept')\n",
    "    plt.plot(arr, f_of_x)\n",
    "    plt.show()"
   ]
  },
  {
   "cell_type": "code",
   "execution_count": 21,
   "metadata": {},
   "outputs": [
    {
     "data": {
      "image/png": "[encoded data removed]",
      "text/plain": [
       "<Figure size 600x400 with 1 Axes>"
      ]
     },
     "metadata": {},
     "output_type": "display_data"
    }
   ],
   "source": [
    "arr = list(range(-3,4))\n",
    "graph_fx(arr)"
   ]
  },
  {
   "cell_type": "markdown",
   "metadata": {
    "id": "D2KxBIhL5UYa"
   },
   "source": [
    "### **Using Zeros and  y -Intercepts to Sketch a Graph**\n",
    "\n",
    "Consider the function \n",
    "\n",
    "# $f(x)= \\sqrt {x+3}+1$ \n",
    "\n",
    "* Find all zeros of  f. \n",
    "* Find the  y -intercept (if any).\n",
    "* Sketch a graph of  f.\n",
    "\n",
    "1. To find the zeros, we need to solve the equation $\\sqrt {x+3}+1=0$. But since the sqrt can never be a negative number, this function has no zeros. Thus the function $f$ does not have an $x$-intercept or does not intercept the $x$-axis\n",
    "\n",
    "2. To find the $y$-intercept, we need to solve for $y$ when $x$ is zero. Thus, solve the equation $\\sqrt {0+3}+1$. This gives $y$-intercept = 2.7321. written as $(0, f(0) = 2.7321$ \n",
    "\n",
    "3. The graph of the line is given below"
   ]
  },
  {
   "cell_type": "code",
   "execution_count": 22,
   "metadata": {
    "id": "w2j1Eo-T4zpm"
   },
   "outputs": [],
   "source": [
    "def graph_fx(arr):\n",
    "    \"\"\"For any given value of x\n",
    "        f(x) is sqrt of (x+3) + 1\n",
    "    \"\"\"\n",
    "    f_of_x = [np.sqrt(x+3)+1 for x in arr]\n",
    "    \n",
    "    plt.figure(figsize=(6,4), dpi=100)\n",
    "    plt.grid()\n",
    "    plt.annotate('y-intcpt', (0, 2.7321))\n",
    "    plt.annotate('x', (-3, 1))\n",
    "    plt.annotate('x', (-2, 2))\n",
    "    plt.annotate('x', (1, 3))\n",
    "    plt.title('The graph of f(x) = sqrt(x+3)+1 has a y-intercept but no x-intercept')\n",
    "    plt.plot(arr, f_of_x)\n",
    "    plt.show()"
   ]
  },
  {
   "cell_type": "code",
   "execution_count": 23,
   "metadata": {
    "colab": {
     "base_uri": "https://localhost:8080/",
     "height": 385
    },
    "id": "VVa24Al4-o5M",
    "outputId": "bcc80d7c-865d-4598-f0cf-429b7a533d22"
   },
   "outputs": [
    {
     "data": {
      "image/png": "[encoded data removed]",
      "text/plain": [
       "<Figure size 600x400 with 1 Axes>"
      ]
     },
     "metadata": {},
     "output_type": "display_data"
    }
   ],
   "source": [
    "arr = list(range(-3,4))\n",
    "graph_fx(arr)"
   ]
  },
  {
   "cell_type": "markdown",
   "metadata": {
    "id": "svNY5LKGDNro"
   },
   "source": [
    "### CHECKPOINT 1.3\n",
    "\n",
    "**Find the zeros of**  \n",
    "\n",
    "# $f(x)=x^3−5x^2+6x$.\n",
    "\n",
    "$x^3−5x^2+6x=0$"
   ]
  },
  {
   "cell_type": "code",
   "execution_count": null,
   "metadata": {},
   "outputs": [],
   "source": [
    "# To find zeros is to find values of x, when f(x) = 0"
   ]
  },
  {
   "cell_type": "code",
   "execution_count": 37,
   "metadata": {},
   "outputs": [],
   "source": [
    "def graph_fx(arr):\n",
    "    \"\"\"For any given value of x\n",
    "        f(x) is sqrt of (x+3) + 1\n",
    "    \"\"\"\n",
    "    f_of_x = [x**3 - (5*(x**2)) + 6*x for x in arr]\n",
    "    \n",
    "    plt.figure(figsize=(6,4), dpi=100)\n",
    "    plt.grid()\n",
    "    plt.title('The graph of CheckPoint 1.3')\n",
    "    plt.plot(arr, f_of_x)\n",
    "    plt.show()"
   ]
  },
  {
   "cell_type": "code",
   "execution_count": 38,
   "metadata": {},
   "outputs": [
    {
     "data": {
      "image/png": "[encoded data removed]",
      "text/plain": [
       "<Figure size 600x400 with 1 Axes>"
      ]
     },
     "metadata": {},
     "output_type": "display_data"
    }
   ],
   "source": [
    "arr = list(range(-4,5))\n",
    "graph_fx(arr)"
   ]
  }
 ],
 "metadata": {
  "colab": {
   "collapsed_sections": [],
   "name": "calculus_vol1.ipynb",
   "provenance": []
  },
  "kernelspec": {
   "display_name": "Python 3",
   "language": "python",
   "name": "python3"
  },
  "language_info": {
   "codemirror_mode": {
    "name": "ipython",
    "version": 3
   },
   "file_extension": ".py",
   "mimetype": "text/x-python",
   "name": "python",
   "nbconvert_exporter": "python",
   "pygments_lexer": "ipython3",
   "version": "3.8.5"
  }
 },
 "nbformat": 4,
 "nbformat_minor": 1
}
